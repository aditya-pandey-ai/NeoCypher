{
 "cells": [
  {
   "cell_type": "code",
   "id": "initial_id",
   "metadata": {
    "collapsed": true,
    "ExecuteTime": {
     "end_time": "2024-10-23T17:51:29.571183Z",
     "start_time": "2024-10-23T17:51:29.562218Z"
    }
   },
   "source": [
    "NEO4J_URI=\"neo4j+s://c0fa349b.databases.neo4j.io\"\n",
    "NEO4J_USERNAME=\"neo4j\"\n",
    "NEO4J_PASSWORD=\"vd22KIBa2I9OP7ElQP3U0kGGQ-X_bljNsjswOutijts\""
   ],
   "outputs": [],
   "execution_count": 1
  },
  {
   "metadata": {
    "ExecuteTime": {
     "end_time": "2024-10-23T17:52:26.350050Z",
     "start_time": "2024-10-23T17:52:26.344463Z"
    }
   },
   "cell_type": "code",
   "source": [
    "import os\n",
    "os.environ['NEO4J_URI']=NEO4J_URI\n",
    "os.environ['NEO4J_USERNAME']=NEO4J_USERNAME\n",
    "os.environ[\"NEO4J_PASSWORD\"]=NEO4J_PASSWORD"
   ],
   "id": "fedd0c0c606dd3f8",
   "outputs": [],
   "execution_count": 2
  },
  {
   "metadata": {
    "ExecuteTime": {
     "end_time": "2024-10-23T17:54:48.114471Z",
     "start_time": "2024-10-23T17:54:44.746839Z"
    }
   },
   "cell_type": "code",
   "source": [
    "from langchain_community.graphs import Neo4jGraph\n",
    "graph=Neo4jGraph(url=NEO4J_URI,username=NEO4J_USERNAME,password=NEO4J_PASSWORD)\n",
    "graph"
   ],
   "id": "e1ec0323a9e2615d",
   "outputs": [
    {
     "name": "stderr",
     "output_type": "stream",
     "text": [
      "/Users/aditya/PycharmProjects/LLM/.venv/lib/python3.9/site-packages/urllib3/__init__.py:35: NotOpenSSLWarning: urllib3 v2 only supports OpenSSL 1.1.1+, currently the 'ssl' module is compiled with 'LibreSSL 2.8.3'. See: https://github.com/urllib3/urllib3/issues/3020\n",
      "  warnings.warn(\n"
     ]
    },
    {
     "data": {
      "text/plain": [
       "<langchain_community.graphs.neo4j_graph.Neo4jGraph at 0x105dce1c0>"
      ]
     },
     "execution_count": 3,
     "metadata": {},
     "output_type": "execute_result"
    }
   ],
   "execution_count": 3
  },
  {
   "metadata": {
    "ExecuteTime": {
     "end_time": "2024-10-23T18:21:20.124981Z",
     "start_time": "2024-10-23T18:21:20.106577Z"
    }
   },
   "cell_type": "code",
   "source": [
    "## Dataset\n",
    "movie_query=\"\"\"\n",
    "LOAD CSV WITH HEADERS FROM \n",
    "'https://raw.githubusercontent.com/tomasonjo/blog-datasets/refs/heads/main/movies/movies_small.csv' AS row\n",
    "\n",
    "MERGE (m:Movie {id: row.movieId})\n",
    "SET m.released = row.released,\n",
    "    m.title = row.title,\n",
    "    m.imdbRating = toFloat(row.imdbRating)\n",
    "\n",
    "FOREACH (director IN split(row.director, '|') |\n",
    "    MERGE (d:Person {name: trim(director)})\n",
    "    MERGE (d)-[:DIRECTED]->(m)\n",
    ")\n",
    "\n",
    "FOREACH (actor IN split(row.actors, '|') |\n",
    "    MERGE (a:Person {name: trim(actor)})\n",
    "    MERGE (a)-[:ACTED_IN]->(m)\n",
    ")\n",
    "\n",
    "FOREACH (genre IN split(row.genres, '|') |\n",
    "    MERGE (g:Genre {name: trim(genre)})\n",
    "    MERGE (m)-[:IN_GENRE]->(g)\n",
    ")\n",
    "\n",
    "\"\"\""
   ],
   "id": "cabb24a4e005f137",
   "outputs": [],
   "execution_count": 4
  },
  {
   "metadata": {
    "ExecuteTime": {
     "end_time": "2024-10-23T18:21:27.480283Z",
     "start_time": "2024-10-23T18:21:27.472939Z"
    }
   },
   "cell_type": "code",
   "source": "movie_query",
   "id": "5f1ed83e720cb745",
   "outputs": [
    {
     "data": {
      "text/plain": [
       "\"\\nLOAD CSV WITH HEADERS FROM \\n'https://raw.githubusercontent.com/tomasonjo/blog-datasets/refs/heads/main/movies/movies_small.csv' AS row\\n\\nMERGE (m:Movie {id: row.movieId})\\nSET m.released = row.released,\\n    m.title = row.title,\\n    m.imdbRating = toFloat(row.imdbRating)\\n\\nFOREACH (director IN split(row.director, '|') |\\n    MERGE (d:Person {name: trim(director)})\\n    MERGE (d)-[:DIRECTED]->(m)\\n)\\n\\nFOREACH (actor IN split(row.actors, '|') |\\n    MERGE (a:Person {name: trim(actor)})\\n    MERGE (a)-[:ACTED_IN]->(m)\\n)\\n\\nFOREACH (genre IN split(row.genres, '|') |\\n    MERGE (g:Genre {name: trim(genre)})\\n    MERGE (m)-[:IN_GENRE]->(g)\\n)\\n\\n\""
      ]
     },
     "execution_count": 5,
     "metadata": {},
     "output_type": "execute_result"
    }
   ],
   "execution_count": 5
  },
  {
   "metadata": {
    "ExecuteTime": {
     "end_time": "2024-10-23T18:22:03.634836Z",
     "start_time": "2024-10-23T18:22:00.864725Z"
    }
   },
   "cell_type": "code",
   "source": "graph.query(movie_query)",
   "id": "dacd6db7466b0c46",
   "outputs": [
    {
     "data": {
      "text/plain": [
       "[]"
      ]
     },
     "execution_count": 6,
     "metadata": {},
     "output_type": "execute_result"
    }
   ],
   "execution_count": 6
  },
  {
   "metadata": {
    "ExecuteTime": {
     "end_time": "2024-10-23T18:23:13.284732Z",
     "start_time": "2024-10-23T18:23:12.213973Z"
    }
   },
   "cell_type": "code",
   "source": [
    "graph.refresh_schema()\n",
    "print(graph.schema)"
   ],
   "id": "3ee69e08ad0856f3",
   "outputs": [
    {
     "name": "stdout",
     "output_type": "stream",
     "text": [
      "Node properties:\n",
      "Movie {id: STRING, released: STRING, title: STRING, imdbRating: FLOAT}\n",
      "Person {name: STRING}\n",
      "Genre {name: STRING}\n",
      "Relationship properties:\n",
      "\n",
      "The relationships:\n",
      "(:Movie)-[:IN_GENRE]->(:Genre)\n",
      "(:Person)-[:DIRECTED]->(:Movie)\n",
      "(:Person)-[:ACTED_IN]->(:Movie)\n"
     ]
    }
   ],
   "execution_count": 7
  },
  {
   "metadata": {
    "ExecuteTime": {
     "end_time": "2024-10-23T19:26:41.728188Z",
     "start_time": "2024-10-23T19:26:41.721475Z"
    }
   },
   "cell_type": "code",
   "source": [
    "import os\n",
    "from dotenv import load_dotenv\n",
    "load_dotenv()\n",
    "\n",
    "groq_api_key=os.getenv(\"GROQ_API_KEY\")"
   ],
   "id": "35a40df068a0865f",
   "outputs": [],
   "execution_count": 9
  },
  {
   "metadata": {
    "ExecuteTime": {
     "end_time": "2024-10-23T19:27:15.355552Z",
     "start_time": "2024-10-23T19:27:15.105558Z"
    }
   },
   "cell_type": "code",
   "source": [
    "from langchain_groq import ChatGroq\n",
    "llm=ChatGroq(groq_api_key=groq_api_key,model_name=\"Gemma2-9b-It\")\n",
    "llm"
   ],
   "id": "241d72cc42947299",
   "outputs": [
    {
     "data": {
      "text/plain": [
       "ChatGroq(client=<groq.resources.chat.completions.Completions object at 0x13568d610>, async_client=<groq.resources.chat.completions.AsyncCompletions object at 0x135681730>, model_name='Gemma2-9b-It', groq_api_key=SecretStr('**********'))"
      ]
     },
     "execution_count": 10,
     "metadata": {},
     "output_type": "execute_result"
    }
   ],
   "execution_count": 10
  },
  {
   "metadata": {
    "ExecuteTime": {
     "end_time": "2024-10-23T19:32:05.907555Z",
     "start_time": "2024-10-23T19:32:05.777483Z"
    }
   },
   "cell_type": "code",
   "source": [
    "from langchain.chains import GraphCypherQAChain\n",
    "chain=GraphCypherQAChain.from_llm(graph=graph,llm=llm,verbose=True)\n",
    "chain"
   ],
   "id": "7a9a738860ef24cf",
   "outputs": [
    {
     "data": {
      "text/plain": [
       "GraphCypherQAChain(verbose=True, graph=<langchain_community.graphs.neo4j_graph.Neo4jGraph object at 0x105dce1c0>, cypher_generation_chain=LLMChain(prompt=PromptTemplate(input_variables=['question', 'schema'], template='Task:Generate Cypher statement to query a graph database.\\nInstructions:\\nUse only the provided relationship types and properties in the schema.\\nDo not use any other relationship types or properties that are not provided.\\nSchema:\\n{schema}\\nNote: Do not include any explanations or apologies in your responses.\\nDo not respond to any questions that might ask anything else than for you to construct a Cypher statement.\\nDo not include any text except the generated Cypher statement.\\n\\nThe question is:\\n{question}'), llm=ChatGroq(client=<groq.resources.chat.completions.Completions object at 0x13568d610>, async_client=<groq.resources.chat.completions.AsyncCompletions object at 0x135681730>, model_name='Gemma2-9b-It', groq_api_key=SecretStr('**********'))), qa_chain=LLMChain(prompt=PromptTemplate(input_variables=['context', 'question'], template=\"You are an assistant that helps to form nice and human understandable answers.\\nThe information part contains the provided information that you must use to construct an answer.\\nThe provided information is authoritative, you must never doubt it or try to use your internal knowledge to correct it.\\nMake the answer sound as a response to the question. Do not mention that you based the result on the given information.\\nHere is an example:\\n\\nQuestion: Which managers own Neo4j stocks?\\nContext:[manager:CTL LLC, manager:JANE STREET GROUP LLC]\\nHelpful Answer: CTL LLC, JANE STREET GROUP LLC owns Neo4j stocks.\\n\\nFollow this example when generating answers.\\nIf the provided information is empty, say that you don't know the answer.\\nInformation:\\n{context}\\n\\nQuestion: {question}\\nHelpful Answer:\"), llm=ChatGroq(client=<groq.resources.chat.completions.Completions object at 0x13568d610>, async_client=<groq.resources.chat.completions.AsyncCompletions object at 0x135681730>, model_name='Gemma2-9b-It', groq_api_key=SecretStr('**********'))), graph_schema='Node properties are the following:\\nMovie {id: STRING, released: STRING, title: STRING, imdbRating: FLOAT},Person {name: STRING},Genre {name: STRING}\\nRelationship properties are the following:\\n\\nThe relationships are the following:\\n(:Movie)-[:IN_GENRE]->(:Genre),(:Person)-[:DIRECTED]->(:Movie),(:Person)-[:ACTED_IN]->(:Movie)')"
      ]
     },
     "execution_count": 11,
     "metadata": {},
     "output_type": "execute_result"
    }
   ],
   "execution_count": 11
  },
  {
   "metadata": {
    "ExecuteTime": {
     "end_time": "2024-10-23T19:34:25.524700Z",
     "start_time": "2024-10-23T19:34:24.541858Z"
    }
   },
   "cell_type": "code",
   "source": [
    "response=chain.invoke({\"query\":\"Who was the director of the movie Heat\"})\n",
    "response"
   ],
   "id": "cccb2ff21fec8c85",
   "outputs": [
    {
     "name": "stdout",
     "output_type": "stream",
     "text": [
      "\n",
      "\n",
      "\u001B[1m> Entering new GraphCypherQAChain chain...\u001B[0m\n",
      "Generated Cypher:\n",
      "\u001B[32;1m\u001B[1;3mMATCH (m:Movie {title: 'Heat'})<-[:DIRECTED]-(p:Person) RETURN p.name \n",
      "\u001B[0m\n",
      "Full Context:\n",
      "\u001B[32;1m\u001B[1;3m[{'p.name': 'Michael Mann'}]\u001B[0m\n",
      "\n",
      "\u001B[1m> Finished chain.\u001B[0m\n"
     ]
    },
    {
     "data": {
      "text/plain": [
       "{'query': 'Who was the director of the movie Heat',\n",
       " 'result': 'Michael Mann \\n'}"
      ]
     },
     "execution_count": 13,
     "metadata": {},
     "output_type": "execute_result"
    }
   ],
   "execution_count": 13
  },
  {
   "metadata": {},
   "cell_type": "code",
   "outputs": [],
   "execution_count": null,
   "source": "",
   "id": "5f01858a86d3037e"
  }
 ],
 "metadata": {
  "kernelspec": {
   "display_name": "Python 3",
   "language": "python",
   "name": "python3"
  },
  "language_info": {
   "codemirror_mode": {
    "name": "ipython",
    "version": 2
   },
   "file_extension": ".py",
   "mimetype": "text/x-python",
   "name": "python",
   "nbconvert_exporter": "python",
   "pygments_lexer": "ipython2",
   "version": "2.7.6"
  }
 },
 "nbformat": 4,
 "nbformat_minor": 5
}
